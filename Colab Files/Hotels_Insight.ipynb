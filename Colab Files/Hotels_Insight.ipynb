{
  "nbformat": 4,
  "nbformat_minor": 0,
  "metadata": {
    "colab": {
      "name": "Hotels_Insight.ipynb",
      "provenance": [],
      "authorship_tag": "ABX9TyP6I9Dg4fDe+SJGEUIXMvcM",
      "include_colab_link": true
    },
    "kernelspec": {
      "name": "python3",
      "display_name": "Python 3"
    },
    "language_info": {
      "name": "python"
    }
  },
  "cells": [
    {
      "cell_type": "markdown",
      "metadata": {
        "id": "view-in-github",
        "colab_type": "text"
      },
      "source": [
        "<a href=\"https://colab.research.google.com/github/tripathishubham1/Travel-Hostel-Startup---Market-Segmentation/blob/main/Colab%20Files/Hotels_Insight.ipynb\" target=\"_parent\"><img src=\"https://colab.research.google.com/assets/colab-badge.svg\" alt=\"Open In Colab\"/></a>"
      ]
    },
    {
      "cell_type": "markdown",
      "metadata": {
        "id": "4oLUvKPApp6H"
      },
      "source": [
        "#Hotels Insights from Goibibo Dataset"
      ]
    },
    {
      "cell_type": "code",
      "metadata": {
        "id": "xFvfKe8nBDYZ"
      },
      "source": [
        "import matplotlib.pyplot as plt \n",
        "import numpy as np \n",
        "import os \n",
        "import pandas as pd"
      ],
      "execution_count": 12,
      "outputs": []
    },
    {
      "cell_type": "code",
      "metadata": {
        "id": "kIXfCTo-B6Nj"
      },
      "source": [
        "df = pd.read_csv('/content/goibibo_com-travel_sample.csv',usecols=['country','state','city','property_name'])"
      ],
      "execution_count": 13,
      "outputs": []
    },
    {
      "cell_type": "code",
      "metadata": {
        "colab": {
          "base_uri": "https://localhost:8080/",
          "height": 422
        },
        "id": "9Pf3mHLrCL6n",
        "outputId": "79dcea07-7c01-4a50-ab09-da5bc06306cc"
      },
      "source": [
        "df"
      ],
      "execution_count": 14,
      "outputs": [
        {
          "output_type": "execute_result",
          "data": {
            "text/html": [
              "<div>\n",
              "<style scoped>\n",
              "    .dataframe tbody tr th:only-of-type {\n",
              "        vertical-align: middle;\n",
              "    }\n",
              "\n",
              "    .dataframe tbody tr th {\n",
              "        vertical-align: top;\n",
              "    }\n",
              "\n",
              "    .dataframe thead th {\n",
              "        text-align: right;\n",
              "    }\n",
              "</style>\n",
              "<table border=\"1\" class=\"dataframe\">\n",
              "  <thead>\n",
              "    <tr style=\"text-align: right;\">\n",
              "      <th></th>\n",
              "      <th>city</th>\n",
              "      <th>country</th>\n",
              "      <th>property_name</th>\n",
              "      <th>state</th>\n",
              "    </tr>\n",
              "  </thead>\n",
              "  <tbody>\n",
              "    <tr>\n",
              "      <th>0</th>\n",
              "      <td>Manali</td>\n",
              "      <td>India</td>\n",
              "      <td>Baragarh Regency</td>\n",
              "      <td>Himachal Pradesh</td>\n",
              "    </tr>\n",
              "    <tr>\n",
              "      <th>1</th>\n",
              "      <td>Gurgaon</td>\n",
              "      <td>India</td>\n",
              "      <td>Asian Suites A- 585</td>\n",
              "      <td>Haryana</td>\n",
              "    </tr>\n",
              "    <tr>\n",
              "      <th>2</th>\n",
              "      <td>Goa</td>\n",
              "      <td>India</td>\n",
              "      <td>Bevvan Resort</td>\n",
              "      <td>Goa</td>\n",
              "    </tr>\n",
              "    <tr>\n",
              "      <th>3</th>\n",
              "      <td>Manali</td>\n",
              "      <td>India</td>\n",
              "      <td>Apple Inn Cottage</td>\n",
              "      <td>Himachal Pradesh</td>\n",
              "    </tr>\n",
              "    <tr>\n",
              "      <th>4</th>\n",
              "      <td>Delhi</td>\n",
              "      <td>India</td>\n",
              "      <td>Anmol Hotel Pvt.Ltd</td>\n",
              "      <td>Delhi</td>\n",
              "    </tr>\n",
              "    <tr>\n",
              "      <th>...</th>\n",
              "      <td>...</td>\n",
              "      <td>...</td>\n",
              "      <td>...</td>\n",
              "      <td>...</td>\n",
              "    </tr>\n",
              "    <tr>\n",
              "      <th>3995</th>\n",
              "      <td>Ujjain</td>\n",
              "      <td>India</td>\n",
              "      <td>Hotel Shreenath Palace</td>\n",
              "      <td>Madhya Pradesh</td>\n",
              "    </tr>\n",
              "    <tr>\n",
              "      <th>3996</th>\n",
              "      <td>Ahmedabad</td>\n",
              "      <td>India</td>\n",
              "      <td>Hotel Sarvottam</td>\n",
              "      <td>Gujarat</td>\n",
              "    </tr>\n",
              "    <tr>\n",
              "      <th>3997</th>\n",
              "      <td>Mumbai</td>\n",
              "      <td>India</td>\n",
              "      <td>Hotel Silver Inn</td>\n",
              "      <td>Maharashtra</td>\n",
              "    </tr>\n",
              "    <tr>\n",
              "      <th>3998</th>\n",
              "      <td>Deoghar</td>\n",
              "      <td>India</td>\n",
              "      <td>Hotel Shivam International</td>\n",
              "      <td>Jharkhand</td>\n",
              "    </tr>\n",
              "    <tr>\n",
              "      <th>3999</th>\n",
              "      <td>Sambalpur</td>\n",
              "      <td>India</td>\n",
              "      <td>Hotel Silver Moon</td>\n",
              "      <td>Orissa</td>\n",
              "    </tr>\n",
              "  </tbody>\n",
              "</table>\n",
              "<p>4000 rows × 4 columns</p>\n",
              "</div>"
            ],
            "text/plain": [
              "           city country               property_name             state\n",
              "0        Manali   India            Baragarh Regency  Himachal Pradesh\n",
              "1       Gurgaon   India         Asian Suites A- 585           Haryana\n",
              "2           Goa   India               Bevvan Resort               Goa\n",
              "3        Manali   India           Apple Inn Cottage  Himachal Pradesh\n",
              "4         Delhi   India         Anmol Hotel Pvt.Ltd             Delhi\n",
              "...         ...     ...                         ...               ...\n",
              "3995     Ujjain   India      Hotel Shreenath Palace    Madhya Pradesh\n",
              "3996  Ahmedabad   India             Hotel Sarvottam           Gujarat\n",
              "3997     Mumbai   India            Hotel Silver Inn       Maharashtra\n",
              "3998    Deoghar   India  Hotel Shivam International         Jharkhand\n",
              "3999  Sambalpur   India           Hotel Silver Moon            Orissa\n",
              "\n",
              "[4000 rows x 4 columns]"
            ]
          },
          "metadata": {},
          "execution_count": 14
        }
      ]
    },
    {
      "cell_type": "code",
      "metadata": {
        "colab": {
          "base_uri": "https://localhost:8080/"
        },
        "id": "xXkNNqANDjNQ",
        "outputId": "45470df0-2a07-4b4e-8e36-79b943194ef4"
      },
      "source": [
        "df_state = df.groupby(df.state)\n",
        "df_tn = df_state.get_group('Tamil Nadu')\n",
        "df_tn.count()"
      ],
      "execution_count": 33,
      "outputs": [
        {
          "output_type": "execute_result",
          "data": {
            "text/plain": [
              "city             271\n",
              "country          271\n",
              "property_name    271\n",
              "state            271\n",
              "dtype: int64"
            ]
          },
          "metadata": {},
          "execution_count": 33
        }
      ]
    },
    {
      "cell_type": "code",
      "metadata": {
        "colab": {
          "base_uri": "https://localhost:8080/"
        },
        "id": "5ToZYiM0EqwF",
        "outputId": "8e791665-cf70-4445-d81c-a097e7e871ab"
      },
      "source": [
        "df_city = df.groupby(df.city)\n",
        "df_ag = df_city.get_group('Agra')\n",
        "df_ag.count()"
      ],
      "execution_count": 32,
      "outputs": [
        {
          "output_type": "execute_result",
          "data": {
            "text/plain": [
              "city             40\n",
              "country          40\n",
              "property_name    40\n",
              "state            40\n",
              "dtype: int64"
            ]
          },
          "metadata": {},
          "execution_count": 32
        }
      ]
    },
    {
      "cell_type": "code",
      "metadata": {
        "colab": {
          "base_uri": "https://localhost:8080/"
        },
        "id": "avkeoKv3E4pD",
        "outputId": "27eab5fe-2469-4243-af94-4bdd0482fcfe"
      },
      "source": [
        "df_city = df.groupby(df.city)\n",
        "df_dh = df_city.get_group('Delhi')\n",
        "df_dh.count()"
      ],
      "execution_count": 34,
      "outputs": [
        {
          "output_type": "execute_result",
          "data": {
            "text/plain": [
              "city             137\n",
              "country          137\n",
              "property_name    137\n",
              "state            137\n",
              "dtype: int64"
            ]
          },
          "metadata": {},
          "execution_count": 34
        }
      ]
    },
    {
      "cell_type": "code",
      "metadata": {
        "colab": {
          "base_uri": "https://localhost:8080/"
        },
        "id": "A5wnUa-zVgfF",
        "outputId": "9dc45857-2dea-4ecc-ebfd-542366c51f70"
      },
      "source": [
        "df_city = df.groupby(df.city)\n",
        "df_au = df_city.get_group('Aurangabad')\n",
        "df_au.count()"
      ],
      "execution_count": 35,
      "outputs": [
        {
          "output_type": "execute_result",
          "data": {
            "text/plain": [
              "city             16\n",
              "country          16\n",
              "property_name    16\n",
              "state            16\n",
              "dtype: int64"
            ]
          },
          "metadata": {},
          "execution_count": 35
        }
      ]
    },
    {
      "cell_type": "code",
      "metadata": {
        "colab": {
          "base_uri": "https://localhost:8080/"
        },
        "id": "dTxQnY_WVl0A",
        "outputId": "11c1c5f2-57c9-45d6-dd01-b5068cce7b76"
      },
      "source": [
        "df_city = df.groupby(df.city)\n",
        "df_bhu = df_city.get_group('Bhubaneswar')\n",
        "df_bhu.count()"
      ],
      "execution_count": 36,
      "outputs": [
        {
          "output_type": "execute_result",
          "data": {
            "text/plain": [
              "city             7\n",
              "country          7\n",
              "property_name    7\n",
              "state            7\n",
              "dtype: int64"
            ]
          },
          "metadata": {},
          "execution_count": 36
        }
      ]
    },
    {
      "cell_type": "code",
      "metadata": {
        "colab": {
          "base_uri": "https://localhost:8080/"
        },
        "id": "Dp62mCyLVrhT",
        "outputId": "48187451-920b-4d88-fe8c-dfbea9eff9ac"
      },
      "source": [
        "df_city = df.groupby(df.city)\n",
        "df_hyd = df_city.get_group('Hyderabad')\n",
        "df_hyd.count()"
      ],
      "execution_count": 37,
      "outputs": [
        {
          "output_type": "execute_result",
          "data": {
            "text/plain": [
              "city             76\n",
              "country          76\n",
              "property_name    76\n",
              "state            76\n",
              "dtype: int64"
            ]
          },
          "metadata": {},
          "execution_count": 37
        }
      ]
    },
    {
      "cell_type": "code",
      "metadata": {
        "colab": {
          "base_uri": "https://localhost:8080/"
        },
        "id": "3QuM8Lh2V6oA",
        "outputId": "5572d617-01ec-4560-a1b8-8af9f5e062e9"
      },
      "source": [
        "df_city = df.groupby(df.city)\n",
        "df_mum = df_city.get_group('Mumbai')\n",
        "df_mum.count()"
      ],
      "execution_count": 38,
      "outputs": [
        {
          "output_type": "execute_result",
          "data": {
            "text/plain": [
              "city             65\n",
              "country          65\n",
              "property_name    65\n",
              "state            65\n",
              "dtype: int64"
            ]
          },
          "metadata": {},
          "execution_count": 38
        }
      ]
    },
    {
      "cell_type": "code",
      "metadata": {
        "colab": {
          "base_uri": "https://localhost:8080/"
        },
        "id": "_xOCOo6DWN6N",
        "outputId": "3b403718-eb14-4a22-bac8-57162fe041d0"
      },
      "source": [
        "df_city = df.groupby(df.city)\n",
        "df_dhar = df_city.get_group('Dharwad')\n",
        "df_dhar.count()"
      ],
      "execution_count": 39,
      "outputs": [
        {
          "output_type": "execute_result",
          "data": {
            "text/plain": [
              "city             1\n",
              "country          1\n",
              "property_name    1\n",
              "state            1\n",
              "dtype: int64"
            ]
          },
          "metadata": {},
          "execution_count": 39
        }
      ]
    },
    {
      "cell_type": "code",
      "metadata": {
        "colab": {
          "base_uri": "https://localhost:8080/"
        },
        "id": "D-YBdsrTWpG1",
        "outputId": "2c7da7d4-b54c-44e4-e1ca-f65dc0fed9a9"
      },
      "source": [
        "df_city = df.groupby(df.city)\n",
        "df_bpl = df_city.get_group('Bhopal')\n",
        "df_bpl.count()"
      ],
      "execution_count": 40,
      "outputs": [
        {
          "output_type": "execute_result",
          "data": {
            "text/plain": [
              "city             20\n",
              "country          20\n",
              "property_name    20\n",
              "state            20\n",
              "dtype: int64"
            ]
          },
          "metadata": {},
          "execution_count": 40
        }
      ]
    },
    {
      "cell_type": "code",
      "metadata": {
        "colab": {
          "base_uri": "https://localhost:8080/"
        },
        "id": "6lg2mTp4W7Wt",
        "outputId": "8e05e4f2-0de4-48d8-91f6-20048cbca62c"
      },
      "source": [
        "df_city = df.groupby(df.city)\n",
        "df_beng = df_city.get_group('Bangalore')\n",
        "df_beng.count()"
      ],
      "execution_count": 41,
      "outputs": [
        {
          "output_type": "execute_result",
          "data": {
            "text/plain": [
              "city             170\n",
              "country          170\n",
              "property_name    170\n",
              "state            170\n",
              "dtype: int64"
            ]
          },
          "metadata": {},
          "execution_count": 41
        }
      ]
    },
    {
      "cell_type": "code",
      "metadata": {
        "colab": {
          "base_uri": "https://localhost:8080/"
        },
        "id": "2oTdPRfFXosl",
        "outputId": "adbce28e-84b1-47d2-95e2-098cad4727c9"
      },
      "source": [
        "df_city = df.groupby(df.city)\n",
        "df_kk = df_city.get_group('Kolkata')\n",
        "df_kk.count()"
      ],
      "execution_count": 42,
      "outputs": [
        {
          "output_type": "execute_result",
          "data": {
            "text/plain": [
              "city             48\n",
              "country          48\n",
              "property_name    48\n",
              "state            48\n",
              "dtype: int64"
            ]
          },
          "metadata": {},
          "execution_count": 42
        }
      ]
    },
    {
      "cell_type": "code",
      "metadata": {
        "colab": {
          "base_uri": "https://localhost:8080/"
        },
        "id": "65C62RD5XyvN",
        "outputId": "ac6bc886-0923-438e-9937-4ae5c5f8bcc7"
      },
      "source": [
        "df_city = df.groupby(df.city)\n",
        "df_ptn = df_city.get_group('Patna')\n",
        "df_ptn.count()"
      ],
      "execution_count": 43,
      "outputs": [
        {
          "output_type": "execute_result",
          "data": {
            "text/plain": [
              "city             14\n",
              "country          14\n",
              "property_name    14\n",
              "state            14\n",
              "dtype: int64"
            ]
          },
          "metadata": {},
          "execution_count": 43
        }
      ]
    },
    {
      "cell_type": "code",
      "metadata": {
        "id": "wAaz0lfkYnOd"
      },
      "source": [
        "hotels_df = [df_ag,df_au,df_beng,df_bhu,df_bpl,df_ch,df_dh,df_dhar,df_hyd,df_kk,df_mum,df_ptn]\n",
        "hotels_df = pd.concat(hotels_df)"
      ],
      "execution_count": 55,
      "outputs": []
    },
    {
      "cell_type": "code",
      "metadata": {
        "colab": {
          "base_uri": "https://localhost:8080/",
          "height": 422
        },
        "id": "VDLxmcnXerhS",
        "outputId": "29514aef-ba1f-4181-c68c-a62e36eb1b96"
      },
      "source": [
        "hotels_df"
      ],
      "execution_count": 56,
      "outputs": [
        {
          "output_type": "execute_result",
          "data": {
            "text/html": [
              "<div>\n",
              "<style scoped>\n",
              "    .dataframe tbody tr th:only-of-type {\n",
              "        vertical-align: middle;\n",
              "    }\n",
              "\n",
              "    .dataframe tbody tr th {\n",
              "        vertical-align: top;\n",
              "    }\n",
              "\n",
              "    .dataframe thead th {\n",
              "        text-align: right;\n",
              "    }\n",
              "</style>\n",
              "<table border=\"1\" class=\"dataframe\">\n",
              "  <thead>\n",
              "    <tr style=\"text-align: right;\">\n",
              "      <th></th>\n",
              "      <th>city</th>\n",
              "      <th>country</th>\n",
              "      <th>property_name</th>\n",
              "      <th>state</th>\n",
              "    </tr>\n",
              "  </thead>\n",
              "  <tbody>\n",
              "    <tr>\n",
              "      <th>121</th>\n",
              "      <td>Agra</td>\n",
              "      <td>India</td>\n",
              "      <td>Bhawna Clarks Inn</td>\n",
              "      <td>Uttar Pradesh</td>\n",
              "    </tr>\n",
              "    <tr>\n",
              "      <th>184</th>\n",
              "      <td>Agra</td>\n",
              "      <td>India</td>\n",
              "      <td>Bliss Home Stay</td>\n",
              "      <td>Uttar Pradesh</td>\n",
              "    </tr>\n",
              "    <tr>\n",
              "      <th>614</th>\n",
              "      <td>Agra</td>\n",
              "      <td>India</td>\n",
              "      <td>D. R. Residency</td>\n",
              "      <td>Uttar Pradesh</td>\n",
              "    </tr>\n",
              "    <tr>\n",
              "      <th>623</th>\n",
              "      <td>Agra</td>\n",
              "      <td>India</td>\n",
              "      <td>Crystal Retreat</td>\n",
              "      <td>Uttar Pradesh</td>\n",
              "    </tr>\n",
              "    <tr>\n",
              "      <th>868</th>\n",
              "      <td>Agra</td>\n",
              "      <td>India</td>\n",
              "      <td>Four Points By Sheraton</td>\n",
              "      <td>Uttar Pradesh</td>\n",
              "    </tr>\n",
              "    <tr>\n",
              "      <th>...</th>\n",
              "      <td>...</td>\n",
              "      <td>...</td>\n",
              "      <td>...</td>\n",
              "      <td>...</td>\n",
              "    </tr>\n",
              "    <tr>\n",
              "      <th>1878</th>\n",
              "      <td>Patna</td>\n",
              "      <td>India</td>\n",
              "      <td>Hotel President</td>\n",
              "      <td>Bihar</td>\n",
              "    </tr>\n",
              "    <tr>\n",
              "      <th>1922</th>\n",
              "      <td>Patna</td>\n",
              "      <td>India</td>\n",
              "      <td>Hotel Patliputra Nirvana</td>\n",
              "      <td>Bihar</td>\n",
              "    </tr>\n",
              "    <tr>\n",
              "      <th>2354</th>\n",
              "      <td>Patna</td>\n",
              "      <td>India</td>\n",
              "      <td>The SAI residence</td>\n",
              "      <td>Bihar</td>\n",
              "    </tr>\n",
              "    <tr>\n",
              "      <th>3241</th>\n",
              "      <td>Patna</td>\n",
              "      <td>India</td>\n",
              "      <td>Hotel Relax Inn</td>\n",
              "      <td>Bihar</td>\n",
              "    </tr>\n",
              "    <tr>\n",
              "      <th>3811</th>\n",
              "      <td>Patna</td>\n",
              "      <td>India</td>\n",
              "      <td>Vatika Premier Hotel</td>\n",
              "      <td>Bihar</td>\n",
              "    </tr>\n",
              "  </tbody>\n",
              "</table>\n",
              "<p>680 rows × 4 columns</p>\n",
              "</div>"
            ],
            "text/plain": [
              "       city country             property_name          state\n",
              "121    Agra   India         Bhawna Clarks Inn  Uttar Pradesh\n",
              "184    Agra   India           Bliss Home Stay  Uttar Pradesh\n",
              "614    Agra   India           D. R. Residency  Uttar Pradesh\n",
              "623    Agra   India           Crystal Retreat  Uttar Pradesh\n",
              "868    Agra   India   Four Points By Sheraton  Uttar Pradesh\n",
              "...     ...     ...                       ...            ...\n",
              "1878  Patna   India           Hotel President          Bihar\n",
              "1922  Patna   India  Hotel Patliputra Nirvana          Bihar\n",
              "2354  Patna   India         The SAI residence          Bihar\n",
              "3241  Patna   India           Hotel Relax Inn          Bihar\n",
              "3811  Patna   India      Vatika Premier Hotel          Bihar\n",
              "\n",
              "[680 rows x 4 columns]"
            ]
          },
          "metadata": {},
          "execution_count": 56
        }
      ]
    },
    {
      "cell_type": "code",
      "metadata": {
        "id": "Y9EeKe4we1ay"
      },
      "source": [
        "hotels_df.to_csv('/content/sample_data/hotels.csv')"
      ],
      "execution_count": 57,
      "outputs": []
    },
    {
      "cell_type": "code",
      "metadata": {
        "id": "2NiOxPl9faqJ"
      },
      "source": [
        "hotels_df['value_count'] = 1 "
      ],
      "execution_count": 58,
      "outputs": []
    },
    {
      "cell_type": "code",
      "metadata": {
        "colab": {
          "base_uri": "https://localhost:8080/",
          "height": 422
        },
        "id": "8w9TkfwMgj8q",
        "outputId": "3a092ce5-1457-4da6-c176-d9da16fb5b64"
      },
      "source": [
        "hotels_df"
      ],
      "execution_count": 59,
      "outputs": [
        {
          "output_type": "execute_result",
          "data": {
            "text/html": [
              "<div>\n",
              "<style scoped>\n",
              "    .dataframe tbody tr th:only-of-type {\n",
              "        vertical-align: middle;\n",
              "    }\n",
              "\n",
              "    .dataframe tbody tr th {\n",
              "        vertical-align: top;\n",
              "    }\n",
              "\n",
              "    .dataframe thead th {\n",
              "        text-align: right;\n",
              "    }\n",
              "</style>\n",
              "<table border=\"1\" class=\"dataframe\">\n",
              "  <thead>\n",
              "    <tr style=\"text-align: right;\">\n",
              "      <th></th>\n",
              "      <th>city</th>\n",
              "      <th>country</th>\n",
              "      <th>property_name</th>\n",
              "      <th>state</th>\n",
              "      <th>value_count</th>\n",
              "    </tr>\n",
              "  </thead>\n",
              "  <tbody>\n",
              "    <tr>\n",
              "      <th>121</th>\n",
              "      <td>Agra</td>\n",
              "      <td>India</td>\n",
              "      <td>Bhawna Clarks Inn</td>\n",
              "      <td>Uttar Pradesh</td>\n",
              "      <td>1</td>\n",
              "    </tr>\n",
              "    <tr>\n",
              "      <th>184</th>\n",
              "      <td>Agra</td>\n",
              "      <td>India</td>\n",
              "      <td>Bliss Home Stay</td>\n",
              "      <td>Uttar Pradesh</td>\n",
              "      <td>1</td>\n",
              "    </tr>\n",
              "    <tr>\n",
              "      <th>614</th>\n",
              "      <td>Agra</td>\n",
              "      <td>India</td>\n",
              "      <td>D. R. Residency</td>\n",
              "      <td>Uttar Pradesh</td>\n",
              "      <td>1</td>\n",
              "    </tr>\n",
              "    <tr>\n",
              "      <th>623</th>\n",
              "      <td>Agra</td>\n",
              "      <td>India</td>\n",
              "      <td>Crystal Retreat</td>\n",
              "      <td>Uttar Pradesh</td>\n",
              "      <td>1</td>\n",
              "    </tr>\n",
              "    <tr>\n",
              "      <th>868</th>\n",
              "      <td>Agra</td>\n",
              "      <td>India</td>\n",
              "      <td>Four Points By Sheraton</td>\n",
              "      <td>Uttar Pradesh</td>\n",
              "      <td>1</td>\n",
              "    </tr>\n",
              "    <tr>\n",
              "      <th>...</th>\n",
              "      <td>...</td>\n",
              "      <td>...</td>\n",
              "      <td>...</td>\n",
              "      <td>...</td>\n",
              "      <td>...</td>\n",
              "    </tr>\n",
              "    <tr>\n",
              "      <th>1878</th>\n",
              "      <td>Patna</td>\n",
              "      <td>India</td>\n",
              "      <td>Hotel President</td>\n",
              "      <td>Bihar</td>\n",
              "      <td>1</td>\n",
              "    </tr>\n",
              "    <tr>\n",
              "      <th>1922</th>\n",
              "      <td>Patna</td>\n",
              "      <td>India</td>\n",
              "      <td>Hotel Patliputra Nirvana</td>\n",
              "      <td>Bihar</td>\n",
              "      <td>1</td>\n",
              "    </tr>\n",
              "    <tr>\n",
              "      <th>2354</th>\n",
              "      <td>Patna</td>\n",
              "      <td>India</td>\n",
              "      <td>The SAI residence</td>\n",
              "      <td>Bihar</td>\n",
              "      <td>1</td>\n",
              "    </tr>\n",
              "    <tr>\n",
              "      <th>3241</th>\n",
              "      <td>Patna</td>\n",
              "      <td>India</td>\n",
              "      <td>Hotel Relax Inn</td>\n",
              "      <td>Bihar</td>\n",
              "      <td>1</td>\n",
              "    </tr>\n",
              "    <tr>\n",
              "      <th>3811</th>\n",
              "      <td>Patna</td>\n",
              "      <td>India</td>\n",
              "      <td>Vatika Premier Hotel</td>\n",
              "      <td>Bihar</td>\n",
              "      <td>1</td>\n",
              "    </tr>\n",
              "  </tbody>\n",
              "</table>\n",
              "<p>680 rows × 5 columns</p>\n",
              "</div>"
            ],
            "text/plain": [
              "       city country             property_name          state  value_count\n",
              "121    Agra   India         Bhawna Clarks Inn  Uttar Pradesh            1\n",
              "184    Agra   India           Bliss Home Stay  Uttar Pradesh            1\n",
              "614    Agra   India           D. R. Residency  Uttar Pradesh            1\n",
              "623    Agra   India           Crystal Retreat  Uttar Pradesh            1\n",
              "868    Agra   India   Four Points By Sheraton  Uttar Pradesh            1\n",
              "...     ...     ...                       ...            ...          ...\n",
              "1878  Patna   India           Hotel President          Bihar            1\n",
              "1922  Patna   India  Hotel Patliputra Nirvana          Bihar            1\n",
              "2354  Patna   India         The SAI residence          Bihar            1\n",
              "3241  Patna   India           Hotel Relax Inn          Bihar            1\n",
              "3811  Patna   India      Vatika Premier Hotel          Bihar            1\n",
              "\n",
              "[680 rows x 5 columns]"
            ]
          },
          "metadata": {},
          "execution_count": 59
        }
      ]
    },
    {
      "cell_type": "code",
      "metadata": {
        "colab": {
          "base_uri": "https://localhost:8080/",
          "height": 425
        },
        "id": "WmP4fJiIgwhJ",
        "outputId": "e3a20b66-b624-4694-c99b-a34785bc068b"
      },
      "source": [
        "hotels_count = hotels_df.groupby('city')[['value_count']].sum().reset_index()\n",
        "hotels_count"
      ],
      "execution_count": 60,
      "outputs": [
        {
          "output_type": "execute_result",
          "data": {
            "text/html": [
              "<div>\n",
              "<style scoped>\n",
              "    .dataframe tbody tr th:only-of-type {\n",
              "        vertical-align: middle;\n",
              "    }\n",
              "\n",
              "    .dataframe tbody tr th {\n",
              "        vertical-align: top;\n",
              "    }\n",
              "\n",
              "    .dataframe thead th {\n",
              "        text-align: right;\n",
              "    }\n",
              "</style>\n",
              "<table border=\"1\" class=\"dataframe\">\n",
              "  <thead>\n",
              "    <tr style=\"text-align: right;\">\n",
              "      <th></th>\n",
              "      <th>city</th>\n",
              "      <th>value_count</th>\n",
              "    </tr>\n",
              "  </thead>\n",
              "  <tbody>\n",
              "    <tr>\n",
              "      <th>0</th>\n",
              "      <td>Agra</td>\n",
              "      <td>40</td>\n",
              "    </tr>\n",
              "    <tr>\n",
              "      <th>1</th>\n",
              "      <td>Aurangabad</td>\n",
              "      <td>16</td>\n",
              "    </tr>\n",
              "    <tr>\n",
              "      <th>2</th>\n",
              "      <td>Bangalore</td>\n",
              "      <td>170</td>\n",
              "    </tr>\n",
              "    <tr>\n",
              "      <th>3</th>\n",
              "      <td>Bhopal</td>\n",
              "      <td>20</td>\n",
              "    </tr>\n",
              "    <tr>\n",
              "      <th>4</th>\n",
              "      <td>Bhubaneswar</td>\n",
              "      <td>7</td>\n",
              "    </tr>\n",
              "    <tr>\n",
              "      <th>5</th>\n",
              "      <td>Chennai</td>\n",
              "      <td>86</td>\n",
              "    </tr>\n",
              "    <tr>\n",
              "      <th>6</th>\n",
              "      <td>Delhi</td>\n",
              "      <td>137</td>\n",
              "    </tr>\n",
              "    <tr>\n",
              "      <th>7</th>\n",
              "      <td>Dharwad</td>\n",
              "      <td>1</td>\n",
              "    </tr>\n",
              "    <tr>\n",
              "      <th>8</th>\n",
              "      <td>Hyderabad</td>\n",
              "      <td>76</td>\n",
              "    </tr>\n",
              "    <tr>\n",
              "      <th>9</th>\n",
              "      <td>Kolkata</td>\n",
              "      <td>48</td>\n",
              "    </tr>\n",
              "    <tr>\n",
              "      <th>10</th>\n",
              "      <td>Mumbai</td>\n",
              "      <td>65</td>\n",
              "    </tr>\n",
              "    <tr>\n",
              "      <th>11</th>\n",
              "      <td>Patna</td>\n",
              "      <td>14</td>\n",
              "    </tr>\n",
              "  </tbody>\n",
              "</table>\n",
              "</div>"
            ],
            "text/plain": [
              "           city  value_count\n",
              "0          Agra           40\n",
              "1    Aurangabad           16\n",
              "2     Bangalore          170\n",
              "3        Bhopal           20\n",
              "4   Bhubaneswar            7\n",
              "5       Chennai           86\n",
              "6         Delhi          137\n",
              "7       Dharwad            1\n",
              "8     Hyderabad           76\n",
              "9       Kolkata           48\n",
              "10       Mumbai           65\n",
              "11        Patna           14"
            ]
          },
          "metadata": {},
          "execution_count": 60
        }
      ]
    },
    {
      "cell_type": "code",
      "metadata": {
        "colab": {
          "base_uri": "https://localhost:8080/",
          "height": 698
        },
        "id": "rV57uURDg9p6",
        "outputId": "4eda8299-8bd0-4403-8e4f-c3e874229614"
      },
      "source": [
        "hotels_count.plot(x=\"city\", y=['value_count'], kind=\"bar\",figsize=(20,10),title='No. of Hotels')"
      ],
      "execution_count": 63,
      "outputs": [
        {
          "output_type": "execute_result",
          "data": {
            "text/plain": [
              "<matplotlib.axes._subplots.AxesSubplot at 0x7f28a32f4b50>"
            ]
          },
          "metadata": {},
          "execution_count": 63
        },
        {
          "output_type": "display_data",
          "data": {
            "image/png": "[encoded data removed]",
            "text/plain": [
              "<Figure size 1440x720 with 1 Axes>"
            ]
          },
          "metadata": {
            "needs_background": "light"
          }
        }
      ]
    },
    {
      "cell_type": "markdown",
      "metadata": {
        "id": "NsTveCS0WPZE"
      },
      "source": [
        ""
      ]
    }
  ]
}